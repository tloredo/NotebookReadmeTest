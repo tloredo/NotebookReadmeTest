{
 "cells": [
  {
   "cell_type": "markdown",
   "metadata": {},
   "source": [
    "## Can I use a Jupyter notebook as my README?\n",
    "\n",
    "If I can, then I can use MathJax $\\mu\\alpha\\tau\\eta$:\n",
    "$$\n",
    "P(H_i|D) = \\frac{P(H_i)P(D|H_i)}{P(D)}\\qquad||\\,\\mathcal{C}.\n",
    "$$"
   ]
  }
 ],
 "metadata": {
  "kernelspec": {
   "display_name": "Python 3",
   "language": "python",
   "name": "python3"
  },
  "language_info": {
   "codemirror_mode": {
    "name": "ipython",
    "version": 3
   },
   "file_extension": ".py",
   "mimetype": "text/x-python",
   "name": "python",
   "nbconvert_exporter": "python",
   "pygments_lexer": "ipython3",
   "version": "3.7.0"
  }
 },
 "nbformat": 4,
 "nbformat_minor": 4
}
